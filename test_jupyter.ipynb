{
 "cells": [
  {
   "cell_type": "code",
   "execution_count": 1,
   "metadata": {},
   "outputs": [],
   "source": [
    "from aij_multiagent_rl.env import AijMultiagentEnv\n",
    "import yaml\n",
    "import flax.linen as nn\n",
    "import jax\n",
    "from vg_lib.modules import nets\n",
    "from vg_lib.utils.training import *"
   ]
  },
  {
   "cell_type": "code",
   "execution_count": 2,
   "metadata": {},
   "outputs": [],
   "source": [
    "env = AijMultiagentEnv()\n",
    "initial_agents_state, initial_area_state = env.reset()\n",
    "initial_world_state = env.state()"
   ]
  },
  {
   "cell_type": "code",
   "execution_count": 3,
   "metadata": {},
   "outputs": [],
   "source": [
    "with open(\"config.yaml\") as stream:\n",
    "    try:\n",
    "        config = yaml.safe_load(stream)\n",
    "    except yaml.YAMLError as exc:\n",
    "        print(exc)"
   ]
  },
  {
   "cell_type": "code",
   "execution_count": 4,
   "metadata": {},
   "outputs": [],
   "source": [
    "config[\"NUM_ACTORS\"] = NUM_AGENTS * config[\"NUM_ENVS\"]\n",
    "config[\"NUM_UPDATES\"] = (\n",
    "    config[\"TOTAL_TIMESTEPS\"] // config[\"NUM_STEPS\"] // config[\"NUM_ENVS\"]\n",
    ")\n",
    "config[\"MINIBATCH_SIZE\"] = (\n",
    "    config[\"NUM_ACTORS\"] * config[\"NUM_STEPS\"] // config[\"NUM_MINIBATCHES\"]\n",
    ")\n",
    "config[\"CLIP_EPS\"] = config[\"CLIP_EPS\"] / env.num_agents if config[\"SCALE_CLIP_EPS\"] else config[\"CLIP_EPS\"]\n"
   ]
  },
  {
   "cell_type": "code",
   "execution_count": 5,
   "metadata": {},
   "outputs": [],
   "source": [
    "rng = jax.random.PRNGKey(config[\"SEED\"])"
   ]
  },
  {
   "cell_type": "code",
   "execution_count": 6,
   "metadata": {},
   "outputs": [],
   "source": [
    "rng, _rng_actor, _rng_critic = jax.random.split(rng, 3)"
   ]
  },
  {
   "cell_type": "code",
   "execution_count": 7,
   "metadata": {},
   "outputs": [],
   "source": [
    "actor_init_image = jnp.zeros((1, config[\"NUM_ENVS\"], *initial_agents_state[AGENT_KEYS[0]]['image'].shape))\n",
    "actor_init_proprio = jnp.zeros((1, config[\"NUM_ENVS\"], *initial_agents_state[AGENT_KEYS[0]]['proprio'].shape))\n",
    "actor_init_obs = (actor_init_image, actor_init_proprio)"
   ]
  },
  {
   "cell_type": "code",
   "execution_count": 8,
   "metadata": {},
   "outputs": [],
   "source": [
    "actor_init_x = (\n",
    "            actor_init_obs,\n",
    "            jnp.zeros((1, config[\"NUM_ENVS\"])),\n",
    "        )"
   ]
  },
  {
   "cell_type": "code",
   "execution_count": 9,
   "metadata": {},
   "outputs": [
    {
     "data": {
      "text/plain": [
       "(1, 1, 60, 60, 3)"
      ]
     },
     "execution_count": 9,
     "metadata": {},
     "output_type": "execute_result"
    }
   ],
   "source": [
    "actor_init_image.shape"
   ]
  },
  {
   "cell_type": "code",
   "execution_count": 10,
   "metadata": {},
   "outputs": [],
   "source": [
    "actor = nets.ActorRNN(env.action_space(AGENT_KEYS[0]).n, config=config)\n",
    "ac_init_hstate = nets.ScannedRNN.initialize_carry(config[\"NUM_ENVS\"], config[\"GRU_HIDDEN_DIM\"])\n",
    "actor_network_params = actor.init(_rng_actor, ac_init_hstate, actor_init_x)"
   ]
  },
  {
   "cell_type": "code",
   "execution_count": 20,
   "metadata": {},
   "outputs": [],
   "source": [
    "critic_image = jnp.zeros((1, config[\"NUM_ENVS\"], *env.state()['image'].shape))\n",
    "critic_additional_obs = jnp.concatenate([env.state()[_] for _ in CENTR_OBS_KEYS], dtype = jnp.float32)\n",
    "area_obs = jnp.array([list(initial_area_state[_].values()) for _ in AGENT_KEYS],dtype = jnp.float32).reshape(-1)\n",
    "critic_feats = jnp.concatenate([critic_additional_obs,area_obs]).reshape(1,config[\"NUM_ENVS\"],-1)"
   ]
  },
  {
   "cell_type": "code",
   "execution_count": 27,
   "metadata": {},
   "outputs": [],
   "source": [
    "cr_init_x = (\n",
    "            (critic_image,critic_feats),\n",
    "            jnp.zeros((1, config[\"NUM_ENVS\"])),\n",
    "        )"
   ]
  },
  {
   "cell_type": "code",
   "execution_count": 28,
   "metadata": {},
   "outputs": [],
   "source": [
    "critic = nets.CriticRNN(config=config)\n",
    "cr_init_hstate = nets.ScannedRNN.initialize_carry(config[\"NUM_ENVS\"], config[\"GRU_HIDDEN_DIM\"])\n",
    "critic_network_params = critic.init(_rng_critic, cr_init_hstate, cr_init_x)"
   ]
  },
  {
   "cell_type": "code",
   "execution_count": 29,
   "metadata": {},
   "outputs": [],
   "source": [
    "actor_train_state = create_train_state(actor, actor_network_params, config)\n",
    "critic_train_state = create_train_state(critic, critic_network_params, config)"
   ]
  },
  {
   "cell_type": "code",
   "execution_count": 35,
   "metadata": {},
   "outputs": [],
   "source": [
    "rng, _rng = jax.random.split(rng)\n",
    "reset_rng = jax.random.split(_rng, config[\"NUM_ENVS\"])\n",
    "obsv, env_state = env.reset(seed=reset_rng[0][0].item())\n",
    "ac_init_hstate = nets.ScannedRNN.initialize_carry(config[\"NUM_ACTORS\"], config[\"GRU_HIDDEN_DIM\"])\n",
    "cr_init_hstate = nets.ScannedRNN.initialize_carry(config[\"NUM_ACTORS\"], config[\"GRU_HIDDEN_DIM\"])"
   ]
  },
  {
   "cell_type": "code",
   "execution_count": 34,
   "metadata": {},
   "outputs": [
    {
     "data": {
      "text/plain": [
       "990842106"
      ]
     },
     "execution_count": 34,
     "metadata": {},
     "output_type": "execute_result"
    }
   ],
   "source": []
  },
  {
   "cell_type": "code",
   "execution_count": null,
   "metadata": {},
   "outputs": [],
   "source": []
  }
 ],
 "metadata": {
  "kernelspec": {
   "display_name": "Python 3",
   "language": "python",
   "name": "python3"
  },
  "language_info": {
   "codemirror_mode": {
    "name": "ipython",
    "version": 3
   },
   "file_extension": ".py",
   "mimetype": "text/x-python",
   "name": "python",
   "nbconvert_exporter": "python",
   "pygments_lexer": "ipython3",
   "version": "3.11.4"
  }
 },
 "nbformat": 4,
 "nbformat_minor": 2
}
