{
 "cells": [
  {
   "cell_type": "code",
   "execution_count": 1,
   "metadata": {},
   "outputs": [],
   "source": [
    "from aij_multiagent_rl.env import AijMultiagentEnv\n",
    "import yaml\n",
    "import flax.linen as nn\n",
    "import numpy as np\n",
    "import jax\n",
    "from vg_lib.modules import nets\n",
    "from vg_lib.utils.training import *"
   ]
  },
  {
   "cell_type": "code",
   "execution_count": 2,
   "metadata": {},
   "outputs": [],
   "source": [
    "env = AijMultiagentEnv()\n",
    "initial_agents_state, initial_area_state = env.reset()\n",
    "initial_world_state = env.state()"
   ]
  },
  {
   "cell_type": "code",
   "execution_count": 3,
   "metadata": {},
   "outputs": [],
   "source": [
    "with open(\"config.yaml\") as stream:\n",
    "    try:\n",
    "        config = yaml.safe_load(stream)\n",
    "    except yaml.YAMLError as exc:\n",
    "        print(exc)"
   ]
  },
  {
   "cell_type": "code",
   "execution_count": 4,
   "metadata": {},
   "outputs": [],
   "source": [
    "config[\"NUM_ACTORS\"] = NUM_AGENTS * config[\"NUM_ENVS\"]\n",
    "config[\"NUM_UPDATES\"] = (\n",
    "    config[\"TOTAL_TIMESTEPS\"] // config[\"NUM_STEPS\"] // config[\"NUM_ENVS\"]\n",
    ")\n",
    "config[\"MINIBATCH_SIZE\"] = (\n",
    "    config[\"NUM_ACTORS\"] * config[\"NUM_STEPS\"] // config[\"NUM_MINIBATCHES\"]\n",
    ")\n",
    "config[\"CLIP_EPS\"] = config[\"CLIP_EPS\"] / env.num_agents if config[\"SCALE_CLIP_EPS\"] else config[\"CLIP_EPS\"]\n"
   ]
  },
  {
   "cell_type": "code",
   "execution_count": 5,
   "metadata": {},
   "outputs": [],
   "source": [
    "rng = jax.random.PRNGKey(config[\"SEED\"])"
   ]
  },
  {
   "cell_type": "code",
   "execution_count": 26,
   "metadata": {},
   "outputs": [
    {
     "ename": "ValueError",
     "evalue": "Input cfg is not an OmegaConf config object (str)",
     "output_type": "error",
     "traceback": [
      "\u001b[0;31m---------------------------------------------------------------------------\u001b[0m",
      "\u001b[0;31mValueError\u001b[0m                                Traceback (most recent call last)",
      "Cell \u001b[0;32mIn[26], line 2\u001b[0m\n\u001b[1;32m      1\u001b[0m \u001b[38;5;28;01mfrom\u001b[39;00m \u001b[38;5;21;01momegaconf\u001b[39;00m \u001b[38;5;28;01mimport\u001b[39;00m OmegaConf\n\u001b[0;32m----> 2\u001b[0m \u001b[43mOmegaConf\u001b[49m\u001b[38;5;241;43m.\u001b[39;49m\u001b[43mto_container\u001b[49m\u001b[43m(\u001b[49m\u001b[38;5;124;43m'\u001b[39;49m\u001b[38;5;124;43mconfig.yaml\u001b[39;49m\u001b[38;5;124;43m'\u001b[39;49m\u001b[43m)\u001b[49m\n",
      "File \u001b[0;32m/Library/Frameworks/Python.framework/Versions/3.11/lib/python3.11/site-packages/omegaconf/omegaconf.py:569\u001b[0m, in \u001b[0;36mOmegaConf.to_container\u001b[0;34m(cfg, resolve, throw_on_missing, enum_to_str, structured_config_mode)\u001b[0m\n\u001b[1;32m    551\u001b[0m \u001b[38;5;250m\u001b[39m\u001b[38;5;124;03m\"\"\"\u001b[39;00m\n\u001b[1;32m    552\u001b[0m \u001b[38;5;124;03mResursively converts an OmegaConf config to a primitive container (dict or list).\u001b[39;00m\n\u001b[1;32m    553\u001b[0m \n\u001b[0;32m   (...)\u001b[0m\n\u001b[1;32m    566\u001b[0m \u001b[38;5;124;03m:return: A dict or a list representing this config as a primitive container.\u001b[39;00m\n\u001b[1;32m    567\u001b[0m \u001b[38;5;124;03m\"\"\"\u001b[39;00m\n\u001b[1;32m    568\u001b[0m \u001b[38;5;28;01mif\u001b[39;00m \u001b[38;5;129;01mnot\u001b[39;00m OmegaConf\u001b[38;5;241m.\u001b[39mis_config(cfg):\n\u001b[0;32m--> 569\u001b[0m     \u001b[38;5;28;01mraise\u001b[39;00m \u001b[38;5;167;01mValueError\u001b[39;00m(\n\u001b[1;32m    570\u001b[0m         \u001b[38;5;124mf\u001b[39m\u001b[38;5;124m\"\u001b[39m\u001b[38;5;124mInput cfg is not an OmegaConf config object (\u001b[39m\u001b[38;5;132;01m{\u001b[39;00mtype_str(\u001b[38;5;28mtype\u001b[39m(cfg))\u001b[38;5;132;01m}\u001b[39;00m\u001b[38;5;124m)\u001b[39m\u001b[38;5;124m\"\u001b[39m\n\u001b[1;32m    571\u001b[0m     )\n\u001b[1;32m    573\u001b[0m \u001b[38;5;28;01mreturn\u001b[39;00m BaseContainer\u001b[38;5;241m.\u001b[39m_to_content(\n\u001b[1;32m    574\u001b[0m     cfg,\n\u001b[1;32m    575\u001b[0m     resolve\u001b[38;5;241m=\u001b[39mresolve,\n\u001b[0;32m   (...)\u001b[0m\n\u001b[1;32m    578\u001b[0m     structured_config_mode\u001b[38;5;241m=\u001b[39mstructured_config_mode,\n\u001b[1;32m    579\u001b[0m )\n",
      "\u001b[0;31mValueError\u001b[0m: Input cfg is not an OmegaConf config object (str)"
     ]
    }
   ],
   "source": [
    "from omegaconf import OmegaConf\n",
    "OmegaConf.to_container('config.yaml')"
   ]
  },
  {
   "cell_type": "code",
   "execution_count": 6,
   "metadata": {},
   "outputs": [],
   "source": [
    "rng, _rng_actor, _rng_critic = jax.random.split(rng, 3)"
   ]
  },
  {
   "cell_type": "code",
   "execution_count": 7,
   "metadata": {},
   "outputs": [],
   "source": [
    "actor_init_image = jnp.zeros((1,config[\"NUM_ENVS\"], *initial_agents_state[AGENT_KEYS[0]]['image'].shape))\n",
    "actor_init_proprio = jnp.zeros((1,config[\"NUM_ENVS\"], *initial_agents_state[AGENT_KEYS[0]]['proprio'].shape))\n",
    "actor_init_obs = (actor_init_image, actor_init_proprio)"
   ]
  },
  {
   "cell_type": "code",
   "execution_count": 8,
   "metadata": {},
   "outputs": [],
   "source": [
    "actor_init_x = (\n",
    "            actor_init_obs,\n",
    "            jnp.zeros((1,config[\"NUM_ENVS\"])),\n",
    "        )"
   ]
  },
  {
   "cell_type": "code",
   "execution_count": 9,
   "metadata": {},
   "outputs": [],
   "source": [
    "actor = nets.ActorRNN(env.action_space(AGENT_KEYS[0]).n, config=config)\n",
    "ac_init_hstate = nets.ScannedRNN.initialize_carry(config[\"NUM_ENVS\"], config[\"GRU_HIDDEN_DIM\"])\n",
    "actor_network_params = actor.init(_rng_actor, ac_init_hstate, actor_init_x)"
   ]
  },
  {
   "cell_type": "code",
   "execution_count": 10,
   "metadata": {},
   "outputs": [],
   "source": [
    "critic_image = jnp.zeros((1, config[\"NUM_ENVS\"], *env.state()['image'].shape))\n",
    "critic_additional_obs = jnp.concatenate([env.state()[_] for _ in CENTR_OBS_KEYS], dtype = jnp.float32)\n",
    "area_obs = jnp.array([list(initial_area_state[_].values()) for _ in AGENT_KEYS],dtype = jnp.float32).reshape(-1)\n",
    "critic_feats = jnp.concatenate([critic_additional_obs,area_obs]).reshape(1,config[\"NUM_ENVS\"],-1)"
   ]
  },
  {
   "cell_type": "code",
   "execution_count": 11,
   "metadata": {},
   "outputs": [],
   "source": [
    "cr_init_x = (\n",
    "            (critic_image,critic_feats),\n",
    "            jnp.zeros((1, config[\"NUM_ENVS\"])),\n",
    "        )"
   ]
  },
  {
   "cell_type": "code",
   "execution_count": 12,
   "metadata": {},
   "outputs": [],
   "source": [
    "critic = nets.CriticRNN(config=config)\n",
    "cr_init_hstate = nets.ScannedRNN.initialize_carry(config[\"NUM_ENVS\"], config[\"GRU_HIDDEN_DIM\"])\n",
    "critic_network_params = critic.init(_rng_critic, cr_init_hstate, cr_init_x)"
   ]
  },
  {
   "cell_type": "code",
   "execution_count": 13,
   "metadata": {},
   "outputs": [],
   "source": [
    "actor_train_state = create_train_state(actor, actor_network_params, config)\n",
    "critic_train_state = create_train_state(critic, critic_network_params, config)"
   ]
  },
  {
   "cell_type": "code",
   "execution_count": 14,
   "metadata": {},
   "outputs": [],
   "source": [
    "rng, _rng = jax.random.split(rng)\n",
    "reset_rng = jax.random.split(_rng, config[\"NUM_ENVS\"])\n",
    "obsv, env_state = env.reset(seed=reset_rng[0][0].item())\n",
    "ac_init_hstate = nets.ScannedRNN.initialize_carry(config[\"NUM_ACTORS\"], config[\"GRU_HIDDEN_DIM\"])\n",
    "cr_init_hstate = nets.ScannedRNN.initialize_carry(config[\"NUM_ACTORS\"], config[\"GRU_HIDDEN_DIM\"])"
   ]
  },
  {
   "cell_type": "code",
   "execution_count": 19,
   "metadata": {},
   "outputs": [],
   "source": [
    "imgs = batchify_image(initial_agents_state, config)[np.newaxis,:]\n",
    "proprios = batchify(initial_agents_state,'proprio',config)[np.newaxis,:]"
   ]
  },
  {
   "cell_type": "code",
   "execution_count": null,
   "metadata": {},
   "outputs": [],
   "source": [
    "def _env_step(runner_state):\n",
    "    train_states, env_state, last_obs, last_done, hstates, rng = runner_state\n",
    "\n",
    "    # SELECT ACTION\n",
    "    rng, _rng = jax.random.split(rng)\n",
    "    obs_batch = batchify(last_obs, env.agents, config[\"NUM_ACTORS\"])\n",
    "    ac_in = (\n",
    "        obs_batch[np.newaxis, :],\n",
    "        last_done[np.newaxis, :],\n",
    "    )\n",
    "    ac_hstate, pi = actor.apply(train_states[0].params, hstates[0], ac_in)\n",
    "    action = pi.sample(seed=_rng)\n",
    "    log_prob = pi.log_prob(action)\n",
    "    env_act = unbatchify(\n",
    "        action, env.agents, config[\"NUM_ENVS\"], env.num_agents\n",
    "    )\n",
    "    # VALUE\n",
    "    # output of wrapper is (num_envs, num_agents, world_state_size)\n",
    "    # swap axes to (num_agents, num_envs, world_state_size) before reshaping to (num_actors, world_state_size)\n",
    "    world_state = last_obs[\"world_state\"].swapaxes(0,1)  \n",
    "    world_state = world_state.reshape((config[\"NUM_ACTORS\"],-1))\n",
    "    cr_in = (\n",
    "        world_state[None, :],\n",
    "        last_done[np.newaxis, :],\n",
    "    )\n",
    "    cr_hstate, value = critic_network.apply(train_states[1].params, hstates[1], cr_in)\n",
    "\n",
    "    # STEP ENV\n",
    "    rng, _rng = jax.random.split(rng)\n",
    "    rng_step = jax.random.split(_rng, config[\"NUM_ENVS\"])\n",
    "    obsv, env_state, reward, done, info = jax.vmap(\n",
    "        env.step, in_axes=(0, 0, 0)\n",
    "    )(rng_step, env_state, env_act)\n",
    "    info = jax.tree_map(lambda x: x.reshape((config[\"NUM_ACTORS\"])), info)\n",
    "    done_batch = batchify(done, env.agents, config[\"NUM_ACTORS\"]).squeeze()\n",
    "    transition = Transition(\n",
    "        jnp.tile(done[\"__all__\"], env.num_agents),\n",
    "        last_done,\n",
    "        action.squeeze(),\n",
    "        value.squeeze(),\n",
    "        batchify(reward, env.agents, config[\"NUM_ACTORS\"]).squeeze(),\n",
    "        log_prob.squeeze(),\n",
    "        obs_batch,\n",
    "        world_state,\n",
    "        info,\n",
    "    )\n",
    "    runner_state = (train_states, env_state, obsv, done_batch, (ac_hstate, cr_hstate), rng)\n",
    "    return runner_state, transition"
   ]
  }
 ],
 "metadata": {
  "kernelspec": {
   "display_name": "Python 3",
   "language": "python",
   "name": "python3"
  },
  "language_info": {
   "codemirror_mode": {
    "name": "ipython",
    "version": 3
   },
   "file_extension": ".py",
   "mimetype": "text/x-python",
   "name": "python",
   "nbconvert_exporter": "python",
   "pygments_lexer": "ipython3",
   "version": "3.11.4"
  }
 },
 "nbformat": 4,
 "nbformat_minor": 2
}
